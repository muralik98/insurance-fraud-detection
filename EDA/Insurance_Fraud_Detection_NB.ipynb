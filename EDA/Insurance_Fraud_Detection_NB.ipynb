{
 "cells": [
  {
   "cell_type": "code",
   "execution_count": 1,
   "id": "8b70e15e-4b9b-41c9-817b-bc2f6b93590f",
   "metadata": {},
   "outputs": [],
   "source": [
    "import pandas as pd \n",
    "import numpy as np"
   ]
  },
  {
   "cell_type": "code",
   "execution_count": 2,
   "id": "5f9d6829-cee1-42b2-b314-7d8b5b4d8ce4",
   "metadata": {},
   "outputs": [],
   "source": [
    "data=pd.read_csv('insuranceFraud.csv')"
   ]
  },
  {
   "cell_type": "code",
   "execution_count": 3,
   "id": "b5dec8c8-ac3b-48d3-8dde-69f3376d0435",
   "metadata": {},
   "outputs": [
    {
     "data": {
      "text/html": [
       "<div>\n",
       "<style scoped>\n",
       "    .dataframe tbody tr th:only-of-type {\n",
       "        vertical-align: middle;\n",
       "    }\n",
       "\n",
       "    .dataframe tbody tr th {\n",
       "        vertical-align: top;\n",
       "    }\n",
       "\n",
       "    .dataframe thead th {\n",
       "        text-align: right;\n",
       "    }\n",
       "</style>\n",
       "<table border=\"1\" class=\"dataframe\">\n",
       "  <thead>\n",
       "    <tr style=\"text-align: right;\">\n",
       "      <th></th>\n",
       "      <th>months_as_customer</th>\n",
       "      <th>age</th>\n",
       "      <th>policy_number</th>\n",
       "      <th>policy_bind_date</th>\n",
       "      <th>policy_state</th>\n",
       "      <th>policy_csl</th>\n",
       "      <th>policy_deductable</th>\n",
       "      <th>policy_annual_premium</th>\n",
       "      <th>umbrella_limit</th>\n",
       "      <th>insured_zip</th>\n",
       "      <th>...</th>\n",
       "      <th>witnesses</th>\n",
       "      <th>police_report_available</th>\n",
       "      <th>total_claim_amount</th>\n",
       "      <th>injury_claim</th>\n",
       "      <th>property_claim</th>\n",
       "      <th>vehicle_claim</th>\n",
       "      <th>auto_make</th>\n",
       "      <th>auto_model</th>\n",
       "      <th>auto_year</th>\n",
       "      <th>fraud_reported</th>\n",
       "    </tr>\n",
       "  </thead>\n",
       "  <tbody>\n",
       "    <tr>\n",
       "      <th>0</th>\n",
       "      <td>328</td>\n",
       "      <td>48</td>\n",
       "      <td>521585</td>\n",
       "      <td>10/17/2014</td>\n",
       "      <td>OH</td>\n",
       "      <td>250/500</td>\n",
       "      <td>1000</td>\n",
       "      <td>1406.91</td>\n",
       "      <td>0</td>\n",
       "      <td>466132</td>\n",
       "      <td>...</td>\n",
       "      <td>2</td>\n",
       "      <td>YES</td>\n",
       "      <td>71610</td>\n",
       "      <td>6510</td>\n",
       "      <td>13020</td>\n",
       "      <td>52080</td>\n",
       "      <td>Saab</td>\n",
       "      <td>92x</td>\n",
       "      <td>2004</td>\n",
       "      <td>Y</td>\n",
       "    </tr>\n",
       "    <tr>\n",
       "      <th>1</th>\n",
       "      <td>228</td>\n",
       "      <td>42</td>\n",
       "      <td>342868</td>\n",
       "      <td>6/27/2006</td>\n",
       "      <td>IN</td>\n",
       "      <td>250/500</td>\n",
       "      <td>2000</td>\n",
       "      <td>1197.22</td>\n",
       "      <td>5000000</td>\n",
       "      <td>468176</td>\n",
       "      <td>...</td>\n",
       "      <td>0</td>\n",
       "      <td>?</td>\n",
       "      <td>5070</td>\n",
       "      <td>780</td>\n",
       "      <td>780</td>\n",
       "      <td>3510</td>\n",
       "      <td>Mercedes</td>\n",
       "      <td>E400</td>\n",
       "      <td>2007</td>\n",
       "      <td>Y</td>\n",
       "    </tr>\n",
       "    <tr>\n",
       "      <th>2</th>\n",
       "      <td>134</td>\n",
       "      <td>29</td>\n",
       "      <td>687698</td>\n",
       "      <td>9/6/2000</td>\n",
       "      <td>OH</td>\n",
       "      <td>100/300</td>\n",
       "      <td>2000</td>\n",
       "      <td>1413.14</td>\n",
       "      <td>5000000</td>\n",
       "      <td>430632</td>\n",
       "      <td>...</td>\n",
       "      <td>3</td>\n",
       "      <td>NO</td>\n",
       "      <td>34650</td>\n",
       "      <td>7700</td>\n",
       "      <td>3850</td>\n",
       "      <td>23100</td>\n",
       "      <td>Dodge</td>\n",
       "      <td>RAM</td>\n",
       "      <td>2007</td>\n",
       "      <td>N</td>\n",
       "    </tr>\n",
       "    <tr>\n",
       "      <th>3</th>\n",
       "      <td>256</td>\n",
       "      <td>41</td>\n",
       "      <td>227811</td>\n",
       "      <td>5/25/1990</td>\n",
       "      <td>IL</td>\n",
       "      <td>250/500</td>\n",
       "      <td>2000</td>\n",
       "      <td>1415.74</td>\n",
       "      <td>6000000</td>\n",
       "      <td>608117</td>\n",
       "      <td>...</td>\n",
       "      <td>2</td>\n",
       "      <td>NO</td>\n",
       "      <td>63400</td>\n",
       "      <td>6340</td>\n",
       "      <td>6340</td>\n",
       "      <td>50720</td>\n",
       "      <td>Chevrolet</td>\n",
       "      <td>Tahoe</td>\n",
       "      <td>2014</td>\n",
       "      <td>Y</td>\n",
       "    </tr>\n",
       "    <tr>\n",
       "      <th>4</th>\n",
       "      <td>228</td>\n",
       "      <td>44</td>\n",
       "      <td>367455</td>\n",
       "      <td>6/6/2014</td>\n",
       "      <td>IL</td>\n",
       "      <td>500/1000</td>\n",
       "      <td>1000</td>\n",
       "      <td>1583.91</td>\n",
       "      <td>6000000</td>\n",
       "      <td>610706</td>\n",
       "      <td>...</td>\n",
       "      <td>1</td>\n",
       "      <td>NO</td>\n",
       "      <td>6500</td>\n",
       "      <td>1300</td>\n",
       "      <td>650</td>\n",
       "      <td>4550</td>\n",
       "      <td>Accura</td>\n",
       "      <td>RSX</td>\n",
       "      <td>2009</td>\n",
       "      <td>N</td>\n",
       "    </tr>\n",
       "  </tbody>\n",
       "</table>\n",
       "<p>5 rows × 39 columns</p>\n",
       "</div>"
      ],
      "text/plain": [
       "   months_as_customer  age  policy_number policy_bind_date policy_state  \\\n",
       "0                 328   48         521585       10/17/2014           OH   \n",
       "1                 228   42         342868        6/27/2006           IN   \n",
       "2                 134   29         687698         9/6/2000           OH   \n",
       "3                 256   41         227811        5/25/1990           IL   \n",
       "4                 228   44         367455         6/6/2014           IL   \n",
       "\n",
       "  policy_csl  policy_deductable  policy_annual_premium  umbrella_limit  \\\n",
       "0    250/500               1000                1406.91               0   \n",
       "1    250/500               2000                1197.22         5000000   \n",
       "2    100/300               2000                1413.14         5000000   \n",
       "3    250/500               2000                1415.74         6000000   \n",
       "4   500/1000               1000                1583.91         6000000   \n",
       "\n",
       "   insured_zip  ... witnesses police_report_available total_claim_amount  \\\n",
       "0       466132  ...         2                     YES              71610   \n",
       "1       468176  ...         0                       ?               5070   \n",
       "2       430632  ...         3                      NO              34650   \n",
       "3       608117  ...         2                      NO              63400   \n",
       "4       610706  ...         1                      NO               6500   \n",
       "\n",
       "  injury_claim property_claim  vehicle_claim  auto_make auto_model auto_year  \\\n",
       "0         6510          13020          52080       Saab        92x      2004   \n",
       "1          780            780           3510   Mercedes       E400      2007   \n",
       "2         7700           3850          23100      Dodge        RAM      2007   \n",
       "3         6340           6340          50720  Chevrolet      Tahoe      2014   \n",
       "4         1300            650           4550     Accura        RSX      2009   \n",
       "\n",
       "  fraud_reported  \n",
       "0              Y  \n",
       "1              Y  \n",
       "2              N  \n",
       "3              Y  \n",
       "4              N  \n",
       "\n",
       "[5 rows x 39 columns]"
      ]
     },
     "execution_count": 3,
     "metadata": {},
     "output_type": "execute_result"
    }
   ],
   "source": [
    "data.head(5)"
   ]
  },
  {
   "cell_type": "code",
   "execution_count": 4,
   "id": "5d14c2d6-8e19-4b95-8478-5bc24dec56fa",
   "metadata": {},
   "outputs": [],
   "source": [
    "data=data.replace('?',np.nan)"
   ]
  },
  {
   "cell_type": "code",
   "execution_count": 5,
   "id": "b53913ab-389b-4280-89c8-c0ac5b239f32",
   "metadata": {},
   "outputs": [
    {
     "data": {
      "text/plain": [
       "Index(['months_as_customer', 'age', 'policy_number', 'policy_bind_date',\n",
       "       'policy_state', 'policy_csl', 'policy_deductable',\n",
       "       'policy_annual_premium', 'umbrella_limit', 'insured_zip', 'insured_sex',\n",
       "       'insured_education_level', 'insured_occupation', 'insured_hobbies',\n",
       "       'insured_relationship', 'capital-gains', 'capital-loss',\n",
       "       'incident_date', 'incident_type', 'collision_type', 'incident_severity',\n",
       "       'authorities_contacted', 'incident_state', 'incident_city',\n",
       "       'incident_location', 'incident_hour_of_the_day',\n",
       "       'number_of_vehicles_involved', 'property_damage', 'bodily_injuries',\n",
       "       'witnesses', 'police_report_available', 'total_claim_amount',\n",
       "       'injury_claim', 'property_claim', 'vehicle_claim', 'auto_make',\n",
       "       'auto_model', 'auto_year', 'fraud_reported'],\n",
       "      dtype='object')"
      ]
     },
     "execution_count": 5,
     "metadata": {},
     "output_type": "execute_result"
    }
   ],
   "source": [
    "data.columns\n"
   ]
  },
  {
   "cell_type": "code",
   "execution_count": 6,
   "id": "0b292e4d-cf2d-47fa-a6b6-69f9cc5ad706",
   "metadata": {},
   "outputs": [
    {
     "data": {
      "text/plain": [
       "3"
      ]
     },
     "execution_count": 6,
     "metadata": {},
     "output_type": "execute_result"
    }
   ],
   "source": [
    "data['policy_state'].nunique()"
   ]
  },
  {
   "cell_type": "code",
   "execution_count": 7,
   "id": "14f0ff72-2859-4f5f-a3d6-7a93745546ce",
   "metadata": {},
   "outputs": [
    {
     "data": {
      "text/plain": [
       "39"
      ]
     },
     "execution_count": 7,
     "metadata": {},
     "output_type": "execute_result"
    }
   ],
   "source": [
    "data['auto_model'].nunique()"
   ]
  },
  {
   "cell_type": "code",
   "execution_count": 8,
   "id": "da193209-b86d-4224-8557-0b510a92550a",
   "metadata": {},
   "outputs": [
    {
     "data": {
      "text/plain": [
       "6"
      ]
     },
     "execution_count": 8,
     "metadata": {},
     "output_type": "execute_result"
    }
   ],
   "source": [
    "data['insured_relationship'].nunique()"
   ]
  },
  {
   "cell_type": "code",
   "execution_count": 9,
   "id": "63ae761d-ab22-450f-bd0e-96eb1af33956",
   "metadata": {},
   "outputs": [
    {
     "data": {
      "text/plain": [
       "insured_occupation\n",
       "machine-op-inspct    93\n",
       "prof-specialty       85\n",
       "tech-support         78\n",
       "sales                76\n",
       "exec-managerial      76\n",
       "craft-repair         74\n",
       "transport-moving     72\n",
       "other-service        71\n",
       "priv-house-serv      71\n",
       "armed-forces         69\n",
       "adm-clerical         65\n",
       "protective-serv      63\n",
       "handlers-cleaners    54\n",
       "farming-fishing      53\n",
       "Name: count, dtype: int64"
      ]
     },
     "execution_count": 9,
     "metadata": {},
     "output_type": "execute_result"
    }
   ],
   "source": [
    "data['insured_occupation'].value_counts()"
   ]
  },
  {
   "cell_type": "code",
   "execution_count": 10,
   "id": "700d32a7-4959-4118-b1ff-12ad2a6f4d7d",
   "metadata": {},
   "outputs": [
    {
     "data": {
      "text/plain": [
       "7"
      ]
     },
     "execution_count": 10,
     "metadata": {},
     "output_type": "execute_result"
    }
   ],
   "source": [
    "data['insured_education_level'].nunique()"
   ]
  },
  {
   "cell_type": "code",
   "execution_count": null,
   "id": "80eec277-fa0b-4ffb-9b76-c7522c3dd7ab",
   "metadata": {},
   "outputs": [],
   "source": []
  },
  {
   "cell_type": "code",
   "execution_count": 11,
   "id": "2ce7916f-b487-4613-847a-7689b9cbb4f9",
   "metadata": {},
   "outputs": [
    {
     "name": "stdout",
     "output_type": "stream",
     "text": [
      "fraud_reported  N  Y\n",
      "insured_zip         \n",
      "430104          1  0\n",
      "430141          0  1\n",
      "430232          1  0\n",
      "430380          1  0\n",
      "430567          1  0\n",
      "...            .. ..\n",
      "620737          1  0\n",
      "620757          1  0\n",
      "620819          0  1\n",
      "620869          1  0\n",
      "620962          1  0\n",
      "\n",
      "[995 rows x 2 columns]\n",
      "There is no significant association between insured occupation and fraud status (fail to reject H0)\n"
     ]
    }
   ],
   "source": [
    "# Create the contingency table\n",
    "contingency_table = pd.crosstab(data['insured_zip'], data['fraud_reported'])\n",
    "\n",
    "print(contingency_table)\n",
    "\n",
    "# Perform the Chi-square test\n",
    "from scipy.stats import chi2_contingency\n",
    "chi2, p, dof, expected = chi2_contingency(contingency_table)\n",
    "\n",
    "alpha = 0.05\n",
    "if p < alpha:\n",
    "    print(\"There is a significant association between insured occupation and fraud status (reject H0)\")\n",
    "else:\n",
    "    print(\"There is no significant association between insured occupation and fraud status (fail to reject H0)\")"
   ]
  },
  {
   "cell_type": "code",
   "execution_count": 12,
   "id": "57e7f77c-6b3f-422d-b512-e9cc286fbec0",
   "metadata": {},
   "outputs": [
    {
     "name": "stdout",
     "output_type": "stream",
     "text": [
      "fraud_reported          N   Y\n",
      "insured_relationship         \n",
      "husband               135  35\n",
      "not-in-family         129  45\n",
      "other-relative        125  52\n",
      "own-child             144  39\n",
      "unmarried             107  34\n",
      "wife                  113  42\n",
      "There is no significant association between insured occupation and fraud status (fail to reject H0)\n"
     ]
    }
   ],
   "source": [
    "contingency_table = pd.crosstab(data['insured_relationship'], data['fraud_reported'])\n",
    "\n",
    "print(contingency_table)\n",
    "\n",
    "# Perform the Chi-square test\n",
    "from scipy.stats import chi2_contingency\n",
    "chi2, p, dof, expected = chi2_contingency(contingency_table)\n",
    "\n",
    "alpha = 0.05\n",
    "if p < alpha:\n",
    "    print(\"There is a significant association between insured occupation and fraud status (reject H0)\")\n",
    "else:\n",
    "    print(\"There is no significant association between insured occupation and fraud status (fail to reject H0)\")"
   ]
  },
  {
   "cell_type": "code",
   "execution_count": 14,
   "id": "8de065c2-dda1-4024-87a3-df8f6b264ba6",
   "metadata": {},
   "outputs": [],
   "source": [
    "data['active_days'] = abs(pd.to_datetime(data['policy_bind_date'], format='%m/%d/%Y')-pd.to_datetime(data['incident_date'], format='%m/%d/%Y'))"
   ]
  },
  {
   "cell_type": "code",
   "execution_count": 15,
   "id": "7c80457e-6086-4f8b-9992-44844705ba72",
   "metadata": {},
   "outputs": [
    {
     "data": {
      "text/plain": [
       "0      100 days\n",
       "1     3130 days\n",
       "2     5282 days\n",
       "3     8996 days\n",
       "4      256 days\n",
       "         ...   \n",
       "995   8622 days\n",
       "996    384 days\n",
       "997   4358 days\n",
       "998   1196 days\n",
       "999   6681 days\n",
       "Name: active_days, Length: 1000, dtype: timedelta64[ns]"
      ]
     },
     "execution_count": 15,
     "metadata": {},
     "output_type": "execute_result"
    }
   ],
   "source": [
    "data['active_days']"
   ]
  },
  {
   "cell_type": "code",
   "execution_count": null,
   "id": "6ec1315c-500e-48d5-82fc-77cc620d9c61",
   "metadata": {},
   "outputs": [],
   "source": [
    "col_to_delete = ['policy_number','incident_date','policy_bind_date', 'insured_zip', 'insured_hobbies','policy_state', \n",
    "                 'incident_location', 'incident_state', 'incident_city', 'auto_make' , 'auto_model' ,'insured_education_level','insured_occupation'  ]"
   ]
  },
  {
   "cell_type": "code",
   "execution_count": null,
   "id": "5600ae14-b4d0-4ac5-a5cd-4364c3426563",
   "metadata": {},
   "outputs": [],
   "source": [
    "data.drop(columns=col_to_delete,inplace=True)"
   ]
  },
  {
   "cell_type": "code",
   "execution_count": null,
   "id": "c75191b0-d0d6-4a54-b126-fa166a2a1177",
   "metadata": {},
   "outputs": [],
   "source": [
    "data"
   ]
  },
  {
   "cell_type": "code",
   "execution_count": null,
   "id": "2881ea63-e30c-48bb-a5f7-893ec08c92fe",
   "metadata": {},
   "outputs": [],
   "source": [
    "data.dtypes[data.dtypes=='object']"
   ]
  },
  {
   "cell_type": "code",
   "execution_count": null,
   "id": "d13249c1-1d9f-4763-8465-5182d76d3322",
   "metadata": {},
   "outputs": [],
   "source": [
    "data.isna().sum()"
   ]
  },
  {
   "cell_type": "code",
   "execution_count": null,
   "id": "f8d3126c-4108-4ca1-a4eb-225c6f7786d1",
   "metadata": {},
   "outputs": [],
   "source": [
    "data['collision_type'].fillna(value='Other',inplace=True)"
   ]
  },
  {
   "cell_type": "code",
   "execution_count": null,
   "id": "97f160a2-386d-45d6-9084-eee41464efea",
   "metadata": {},
   "outputs": [],
   "source": [
    "data['authorities_contacted']"
   ]
  },
  {
   "cell_type": "code",
   "execution_count": null,
   "id": "2575dd02-e12f-44de-bb5b-5ee87f0f3e42",
   "metadata": {},
   "outputs": [],
   "source": [
    "data['authorities_contacted'].fillna(value='Other',inplace=True)"
   ]
  },
  {
   "cell_type": "code",
   "execution_count": null,
   "id": "57b2ec22-2bae-4310-a361-31a928089acc",
   "metadata": {},
   "outputs": [],
   "source": [
    "data['property_damage'].fillna(value='Other',inplace=True)"
   ]
  },
  {
   "cell_type": "code",
   "execution_count": null,
   "id": "a9749178-8263-4de9-a5f0-ad416ed4a1c1",
   "metadata": {},
   "outputs": [],
   "source": [
    "data['police_report_available'].fillna(value='Other',inplace=True)"
   ]
  },
  {
   "cell_type": "code",
   "execution_count": null,
   "id": "ee6bd24f-2149-47f6-bd47-1dbb723e6038",
   "metadata": {},
   "outputs": [],
   "source": [
    "from sklearn.impute import SimpleImputer\n",
    "imp_mean = SimpleImputer(missing_values=np.nan, fill_value='Other')"
   ]
  },
  {
   "cell_type": "code",
   "execution_count": null,
   "id": "3924506d-f818-4ecb-8fc6-416238e24ace",
   "metadata": {},
   "outputs": [],
   "source": [
    "data['collision_type'][data['collision_type']==False]=np.nan"
   ]
  },
  {
   "cell_type": "code",
   "execution_count": null,
   "id": "dddd381f-d4b0-433c-8abc-ea836c0a0b3d",
   "metadata": {},
   "outputs": [],
   "source": [
    "from sklearn.impute import SimpleImputer\n",
    "\n",
    "imp_mean = SimpleImputer(missing_values=np.nan, fill_value='Other', strategy='constant')\n",
    "data[['collision_type']] = imp_mean.fit_transform(data[['collision_type']])\n",
    "data[['authorities_contacted']] = imp_mean.fit_transform(data[['authorities_contacted']])\n",
    "data[['property_damage']] = imp_mean.fit_transform(data[['property_damage']])\n",
    "data[['police_report_available']] = imp_mean.fit_transform(data[['police_report_available']])\n"
   ]
  },
  {
   "cell_type": "code",
   "execution_count": null,
   "id": "ef3fe22e-f9aa-4cde-ab27-469a5149e53a",
   "metadata": {},
   "outputs": [],
   "source": [
    "# Extracting the categorical columns\n",
    "cat_df = data.select_dtypes(include=['object']).copy()\n",
    "cat_df.columns"
   ]
  },
  {
   "cell_type": "code",
   "execution_count": null,
   "id": "9598f4d6-40a4-4fd0-b504-e7433afeccbf",
   "metadata": {},
   "outputs": [],
   "source": [
    "cat_df['policy_csl'].apply(lambda x: int(x.split('/')[0]) + int(x.split('/')[1]))"
   ]
  },
  {
   "cell_type": "code",
   "execution_count": null,
   "id": "5175ad33-9cd9-4bcc-b848-e8ac07ff489c",
   "metadata": {},
   "outputs": [],
   "source": [
    "from sklearn.preprocessing import OrdinalEncoder\n",
    "enc = OrdinalEncoder()\n",
    "X = [['Male', 1], ['Female', 3], ['Female', 2]]\n",
    "enc.fit(X)\n",
    "enc.categories_\n",
    "enc.transform([['Female', 3], ['Male', 1]])"
   ]
  },
  {
   "cell_type": "code",
   "execution_count": null,
   "id": "780e3c80-5c1d-4c30-a5e0-3a641b2fdcc3",
   "metadata": {},
   "outputs": [],
   "source": [
    "from sklearn.preprocessing import OneHotEncoder\n",
    "ohe = OneHotEncoder()\n",
    "ohe_categorical_cols=['insured_relationship', 'incident_type',\n",
    "       'collision_type', 'authorities_contacted',\n",
    "       'property_damage', 'police_report_available']\n",
    "#One-hot-encode the categorical columns.\n",
    "#Unfortunately outputs an array instead of dataframe.\n",
    "array_hot_encoded = ohe.fit_transform(cat_df[ohe_categorical_cols])\n",
    "pd.DataFrame(array_hot_encoded,  index=cat_df.index)"
   ]
  },
  {
   "cell_type": "code",
   "execution_count": null,
   "id": "30450957-4bb0-4c59-9183-6537457d6193",
   "metadata": {},
   "outputs": [],
   "source": [
    "import pandas as pd\n",
    "from sklearn.preprocessing import OneHotEncoder\n",
    "\n",
    "# Assuming cat_df is your DataFrame containing categorical columns\n",
    "\n",
    "ohe = OneHotEncoder()\n",
    "ohe_categorical_cols=['insured_relationship', 'incident_type',\n",
    "       'collision_type', 'incident_severity', 'authorities_contacted',\n",
    "       'property_damage', 'police_report_available']\n",
    "\n",
    "# One-hot-encode the categorical columns and convert to DataFrame\n",
    "array_hot_encoded = ohe.fit_transform(cat_df[ohe_categorical_cols])\n",
    "hot_encoded_df = pd.DataFrame(array_hot_encoded.toarray(), columns=ohe.get_feature_names_out(), index=cat_df.index)\n",
    "\n",
    "# Concatenate hot_encoded_df with the original DataFrame cat_df\n",
    "#cat_df_encoded = pd.concat([cat_df.drop(ohe_categorical_cols, axis=1), hot_encoded_df], axis=1)\n",
    "\n",
    "# Now cat_df_encoded contains all columns including the one-hot-encoded columns\n"
   ]
  },
  {
   "cell_type": "code",
   "execution_count": null,
   "id": "2acadff6-069b-4b73-b6df-39ba33e95e68",
   "metadata": {},
   "outputs": [],
   "source": [
    "from sklearn.preprocessing import OrdinalEncoder\n",
    "ordenc = OrdinalEncoder()"
   ]
  },
  {
   "cell_type": "code",
   "execution_count": null,
   "id": "31c997e2-dbae-41ca-b6bc-c21a68ea306e",
   "metadata": {},
   "outputs": [],
   "source": [
    "ord_categorical_cols =['insured_sex','fraud_reported', 'incident_severity' ]\n",
    "array_ord_encoded = ordenc.fit_transform(cat_df[ord_categorical_cols])\n",
    "ord_encoded_df = pd.DataFrame(array_ord_encoded, columns=ordenc.get_feature_names_out(), index=cat_df.index)"
   ]
  },
  {
   "cell_type": "code",
   "execution_count": null,
   "id": "a6b44269-630e-4e97-a4fe-b91998242401",
   "metadata": {},
   "outputs": [],
   "source": [
    "ord_encoded_df"
   ]
  },
  {
   "cell_type": "code",
   "execution_count": null,
   "id": "6791bece-0f62-4466-8943-c7d473492312",
   "metadata": {},
   "outputs": [],
   "source": [
    "hot_encoded_df"
   ]
  },
  {
   "cell_type": "code",
   "execution_count": null,
   "id": "4956df02-1af7-439a-ad39-c32584a08172",
   "metadata": {},
   "outputs": [],
   "source": [
    "num_df = data.select_dtypes(exclude=['object']).copy()\n"
   ]
  },
  {
   "cell_type": "code",
   "execution_count": null,
   "id": "f9defd46-0cf0-407f-b22c-dab868d1e2c3",
   "metadata": {},
   "outputs": [],
   "source": [
    "num_df['active_days'] = num_df['active_days'].dt.days"
   ]
  },
  {
   "cell_type": "code",
   "execution_count": null,
   "id": "3de8aca9-486c-49af-ba88-2a8f6c8d7835",
   "metadata": {},
   "outputs": [],
   "source": [
    "num_df"
   ]
  },
  {
   "cell_type": "code",
   "execution_count": null,
   "id": "3db6c85e-8a60-480e-b274-6f6a5db6b818",
   "metadata": {},
   "outputs": [],
   "source": [
    "# num_df \n",
    "# ord_encoded_df\n",
    "# hot_encoded_df"
   ]
  },
  {
   "cell_type": "code",
   "execution_count": null,
   "id": "25ce3f7c-cc3d-4e7e-8665-9a1c0a15603d",
   "metadata": {},
   "outputs": [],
   "source": [
    "from sklearn.preprocessing import StandardScaler\n",
    "scaler = StandardScaler()\n",
    "num_df_scaled = pd.DataFrame(scaler.fit_transform(num_df), columns=num_df.columns, index=num_df.index)\n"
   ]
  },
  {
   "cell_type": "code",
   "execution_count": null,
   "id": "ff80d94f-6ad2-4758-98d0-be3ad4c9e8ee",
   "metadata": {},
   "outputs": [],
   "source": [
    "num_df_scaled"
   ]
  },
  {
   "cell_type": "code",
   "execution_count": null,
   "id": "036f46df-3b08-4535-b2fd-541bd30af2d2",
   "metadata": {},
   "outputs": [],
   "source": []
  },
  {
   "cell_type": "code",
   "execution_count": 16,
   "id": "c6da5f14-bf8a-4186-b3aa-12fc28800b98",
   "metadata": {},
   "outputs": [],
   "source": [
    "from sklearn.pipeline import Pipeline\n",
    "from sklearn.compose import ColumnTransformer\n",
    "from sklearn.compose import make_column_selector, make_column_transformer\n"
   ]
  },
  {
   "cell_type": "code",
   "execution_count": null,
   "id": "a312c560-95db-4ba4-8a12-c0fa3915cc5d",
   "metadata": {},
   "outputs": [],
   "source": [
    "impute_cols= ['collision_type', 'authorities_contacted', 'property_damage', 'police_report_available']"
   ]
  },
  {
   "cell_type": "code",
   "execution_count": null,
   "id": "d930dac3-305e-4ffb-b247-caf794d416f7",
   "metadata": {},
   "outputs": [],
   "source": [
    "imp_mean = SimpleImputer(missing_values=np.nan, fill_value='Other', strategy='constant')\n",
    "data[['collision_type']] = imp_mean.fit_transform(data[['collision_type']])\n",
    "data[['authorities_contacted']] = imp_mean.fit_transform(data[['authorities_contacted']])\n",
    "data[['property_damage']] = imp_mean.fit_transform(data[['property_damage']])\n",
    "data[['police_report_available']] = imp_mean.fit_transform(data[['police_report_available']])"
   ]
  },
  {
   "cell_type": "code",
   "execution_count": null,
   "id": "fb1e01f8-1c25-4b2f-964b-88b23878d01f",
   "metadata": {},
   "outputs": [],
   "source": [
    "imp_mean = SimpleImputer(missing_values=np.nan, fill_value='Other', strategy='constant')\n"
   ]
  },
  {
   "cell_type": "code",
   "execution_count": null,
   "id": "c94468b1-9377-409f-a946-792450c3d122",
   "metadata": {},
   "outputs": [],
   "source": [
    "cat_df['policy_csl'].apply(lambda x: int(x.split('/')[0]) + int(x.split('/')[1]))"
   ]
  },
  {
   "cell_type": "code",
   "execution_count": null,
   "id": "f9408f70-236c-4f8b-88e5-d39fd9608a66",
   "metadata": {},
   "outputs": [],
   "source": [
    "ohe = OneHotEncoder()\n",
    "ohe_categorical_cols=['insured_relationship', 'incident_type',\n",
    "       'collision_type', 'incident_severity', 'authorities_contacted',\n",
    "       'property_damage', 'police_report_available']\n",
    "ord_categorical_cols =['insured_sex','fraud_reported', 'incident_severity' ]\n",
    "array_ord_encoded = ordenc.fit_transform(cat_df[ord_categorical_cols])\n",
    "ordenc = OrdinalEncoder()"
   ]
  },
  {
   "cell_type": "code",
   "execution_count": null,
   "id": "c6e1fa35-8703-45c3-9753-a63c24b17a1d",
   "metadata": {},
   "outputs": [],
   "source": [
    "ord_cat_cols_pipe = Pipeline([(\"ordenc\", OrdinalEncoder() )])"
   ]
  },
  {
   "cell_type": "code",
   "execution_count": null,
   "id": "958e49b1-eca2-42f7-a950-49afa4214272",
   "metadata": {},
   "outputs": [],
   "source": [
    "ohe_cat_cols_pipe = Pipeline([(\"ohenc\", OneHotEncoder() )])"
   ]
  },
  {
   "cell_type": "code",
   "execution_count": null,
   "id": "fc9b8f05-fcbf-44bf-90df-7d0625ca99bf",
   "metadata": {},
   "outputs": [],
   "source": [
    "from sklearn.base import BaseEstimator, TransformerMixin\n",
    "\n",
    "class ConvertDaysInt(BaseEstimator, TransformerMixin):\n",
    "    def fit(self, X, y=None):\n",
    "        return self  # Nothing to do here\n",
    " \n",
    "    def transform(self, X):\n",
    "        X['active_days'] = X['active_days'].dt.days\n",
    "        return X"
   ]
  },
  {
   "cell_type": "code",
   "execution_count": null,
   "id": "94fb178f-57b5-44b5-9d9b-6c39b6427b37",
   "metadata": {},
   "outputs": [],
   "source": [
    "from sklearn.base import BaseEstimator, TransformerMixin\n",
    "\n",
    "class CSLSum(BaseEstimator, TransformerMixin):\n",
    "    def fit(self, X, y=None):\n",
    "        return self  # Nothing to do here\n",
    " \n",
    "    def transform(self, X):\n",
    "         X['policy_csl']= X['policy_csl'].apply(lambda x: int(x.split('/')[0]) + int(x.split('/')[1]))\n",
    "         return X"
   ]
  },
  {
   "cell_type": "code",
   "execution_count": null,
   "id": "ef599d60-4f3b-4d0d-9f12-2610a17c4508",
   "metadata": {},
   "outputs": [],
   "source": [
    "# Column Impute \n",
    "impute_cols= ['collision_type', 'authorities_contacted', 'property_damage', 'police_report_available']\n",
    "impute_cols_pipe = Pipeline([(\"impute\", SimpleImputer(missing_values=np.nan, fill_value='Other', strategy='constant'))])\n",
    "\n",
    "ord_categorical_cols =['insured_sex','fraud_reported', 'incident_severity' ]\n",
    "ord_cat_cols_pipe = Pipeline([(\"ordenc\", OrdinalEncoder() )])\n",
    "\n",
    "\n",
    "ohe_categorical_cols=['insured_relationship', 'incident_type',\n",
    "       'collision_type', 'incident_severity', 'authorities_contacted',\n",
    "       'property_damage', 'police_report_available']\n",
    "ohe_cat_cols_pipe = Pipeline([(\"ohenc\", OneHotEncoder() )])\n",
    "\n",
    "from sklearn.base import BaseEstimator, TransformerMixin\n",
    "class CSLSum(BaseEstimator, TransformerMixin):\n",
    "    def fit(self, X, y=None):\n",
    "        return self  # Nothing to do here\n",
    " \n",
    "    def transform(self, X):\n",
    "         X['policy_csl']= X['policy_csl'].apply(lambda x: int(x.split('/')[0]) + int(x.split('/')[1]))\n",
    "         return X\n",
    "    def get_feature_names_out(self, input_features=None):\n",
    "        return ['policy_csl']\n",
    "\n",
    "\n",
    "\n",
    "class ConvertDaysInt(BaseEstimator, TransformerMixin):\n",
    "    def fit(self, X, y=None):\n",
    "        return self  # Nothing to do here\n",
    " \n",
    "    def transform(self, X):\n",
    "        X['active_days'] = X['active_days'].dt.days\n",
    "        return X\n",
    "    def get_feature_names_out(self, input_features=None):\n",
    "        return ['active_days']"
   ]
  },
  {
   "cell_type": "code",
   "execution_count": null,
   "id": "81a07560-0551-490e-8d0c-25d0014c476e",
   "metadata": {},
   "outputs": [],
   "source": [
    "ord_categorical_cols =['insured_sex','fraud_reported', 'incident_severity' ]\n",
    "ord_cat_cols_pipe = Pipeline([(\"ordenc\", OrdinalEncoder() ),(\"standscale\", StandardScaler())])"
   ]
  },
  {
   "cell_type": "code",
   "execution_count": null,
   "id": "76b91a9c-19ae-42ac-bf1e-dd41fdf7c7ae",
   "metadata": {},
   "outputs": [],
   "source": [
    "ohe_categorical_cols=['insured_relationship', 'incident_type',\n",
    "       'collision_type', 'incident_severity', 'authorities_contacted',\n",
    "       'property_damage', 'police_report_available']\n",
    "ohe_cat_cols_pipe = Pipeline([(\"ohenc\", OneHotEncoder(sparse_output=False) ),(\"standscale\", StandardScaler())])"
   ]
  },
  {
   "cell_type": "code",
   "execution_count": null,
   "id": "ce9269b3-09ad-479c-aa62-7ac5d1b0057b",
   "metadata": {},
   "outputs": [],
   "source": [
    "# Define the ColumnTransformer\n",
    "preprocessing = ColumnTransformer([\n",
    "    (\"impute_cols_pipe\", impute_cols_pipe, impute_cols),\n",
    "    (\"ord_cat_cols_pipe\", ord_cat_cols_pipe, ord_categorical_cols),\n",
    "    (\"ohe_cat_cols_pipe\", ohe_cat_cols_pipe, ohe_categorical_cols),\n",
    "    (\"date_format\", ConvertDaysInt(), ['active_days']),  # Apply ConvertDaysInt to 'active_days' column\n",
    "    (\"csl_sum\", CSLSum(), ['policy_csl'])  # Apply CSLSum to 'policy_csl' column\n",
    "], remainder='passthrough', verbose_feature_names_out=True)"
   ]
  },
  {
   "cell_type": "code",
   "execution_count": null,
   "id": "1460c101-26bd-4b04-8c6a-e08ce0c021a6",
   "metadata": {},
   "outputs": [],
   "source": []
  },
  {
   "cell_type": "code",
   "execution_count": null,
   "id": "9003a839-687f-4878-8266-b0647f83ee81",
   "metadata": {},
   "outputs": [],
   "source": [
    "temp_df = pd.DataFrame(preprocessing.fit_transform(data))"
   ]
  },
  {
   "cell_type": "code",
   "execution_count": null,
   "id": "14b87e86-8903-4dad-9548-7af2ed06888a",
   "metadata": {},
   "outputs": [],
   "source": [
    "preprocessing.get_feature_names_out()\n"
   ]
  },
  {
   "cell_type": "code",
   "execution_count": null,
   "id": "54fad48a-19d3-4d19-9487-2fc99b344a39",
   "metadata": {},
   "outputs": [],
   "source": [
    "temp_df.columns=preprocessing.get_feature_names_out()"
   ]
  },
  {
   "cell_type": "code",
   "execution_count": null,
   "id": "d22b2f56-241b-438c-80c5-4857cbed4ae7",
   "metadata": {},
   "outputs": [],
   "source": [
    "temp_df"
   ]
  },
  {
   "cell_type": "code",
   "execution_count": null,
   "id": "a70d5030-88ea-4f8c-ac4a-bb38f2ec9ae8",
   "metadata": {},
   "outputs": [],
   "source": []
  }
 ],
 "metadata": {
  "kernelspec": {
   "display_name": "tfwn",
   "language": "python",
   "name": "tfwn"
  },
  "language_info": {
   "codemirror_mode": {
    "name": "ipython",
    "version": 3
   },
   "file_extension": ".py",
   "mimetype": "text/x-python",
   "name": "python",
   "nbconvert_exporter": "python",
   "pygments_lexer": "ipython3",
   "version": "3.10.14"
  }
 },
 "nbformat": 4,
 "nbformat_minor": 5
}
